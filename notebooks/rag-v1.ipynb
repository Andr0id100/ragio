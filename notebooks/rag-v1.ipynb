{
 "cells": [
  {
   "cell_type": "code",
   "execution_count": 2,
   "id": "115e043b-6c1b-496f-88f4-9b08b68e584a",
   "metadata": {
    "execution": {
     "iopub.execute_input": "2024-09-21T19:03:23.550067Z",
     "iopub.status.busy": "2024-09-21T19:03:23.549931Z",
     "iopub.status.idle": "2024-09-21T19:03:23.551764Z",
     "shell.execute_reply": "2024-09-21T19:03:23.551538Z",
     "shell.execute_reply.started": "2024-09-21T19:03:23.550057Z"
    }
   },
   "outputs": [],
   "source": [
    "import pandas as pd\n",
    "import numpy as np\n",
    "\n",
    "import google.generativeai as genai\n",
    "import os"
   ]
  },
  {
   "cell_type": "code",
   "execution_count": 3,
   "id": "88fffbae-47ed-4674-bfc3-9b6705202a83",
   "metadata": {
    "execution": {
     "iopub.execute_input": "2024-09-21T19:03:23.552138Z",
     "iopub.status.busy": "2024-09-21T19:03:23.552067Z",
     "iopub.status.idle": "2024-09-21T19:03:23.553831Z",
     "shell.execute_reply": "2024-09-21T19:03:23.553575Z",
     "shell.execute_reply.started": "2024-09-21T19:03:23.552130Z"
    }
   },
   "outputs": [],
   "source": [
    "genai.configure(api_key=os.environ[\"GEMINI_API_KEY\"])"
   ]
  },
  {
   "cell_type": "code",
   "execution_count": 68,
   "id": "47b29eb9-c346-4183-abf7-1807e45a3562",
   "metadata": {
    "execution": {
     "iopub.execute_input": "2024-09-23T08:37:47.145557Z",
     "iopub.status.busy": "2024-09-23T08:37:47.144566Z",
     "iopub.status.idle": "2024-09-23T08:37:47.193424Z",
     "shell.execute_reply": "2024-09-23T08:37:47.193131Z",
     "shell.execute_reply.started": "2024-09-23T08:37:47.145447Z"
    }
   },
   "outputs": [
    {
     "name": "stdout",
     "output_type": "stream",
     "text": [
      "5\n"
     ]
    },
    {
     "data": {
      "text/html": [
       "<div>\n",
       "<style scoped>\n",
       "    .dataframe tbody tr th:only-of-type {\n",
       "        vertical-align: middle;\n",
       "    }\n",
       "\n",
       "    .dataframe tbody tr th {\n",
       "        vertical-align: top;\n",
       "    }\n",
       "\n",
       "    .dataframe thead th {\n",
       "        text-align: right;\n",
       "    }\n",
       "</style>\n",
       "<table border=\"1\" class=\"dataframe\">\n",
       "  <thead>\n",
       "    <tr style=\"text-align: right;\">\n",
       "      <th></th>\n",
       "      <th>start</th>\n",
       "      <th>end</th>\n",
       "      <th>text</th>\n",
       "      <th>embedding</th>\n",
       "    </tr>\n",
       "  </thead>\n",
       "  <tbody>\n",
       "    <tr>\n",
       "      <th>0</th>\n",
       "      <td>40.578</td>\n",
       "      <td>43.198</td>\n",
       "      <td>Three a tick. Yep, that's that one clear.</td>\n",
       "      <td>[0.014806596, -0.013747013, -0.056391202, -0.0...</td>\n",
       "    </tr>\n",
       "    <tr>\n",
       "      <th>1</th>\n",
       "      <td>50.018</td>\n",
       "      <td>52.350</td>\n",
       "      <td>What the other car did on the front wing, do w...</td>\n",
       "      <td>[0.011937778, -0.017356517, -0.039998524, -0.0...</td>\n",
       "    </tr>\n",
       "    <tr>\n",
       "      <th>2</th>\n",
       "      <td>73.250</td>\n",
       "      <td>80.574</td>\n",
       "      <td>Okay, so they all said a little bit understeer...</td>\n",
       "      <td>[0.002522055, -0.047273237, -0.033486698, 0.00...</td>\n",
       "    </tr>\n",
       "    <tr>\n",
       "      <th>3</th>\n",
       "      <td>130.690</td>\n",
       "      <td>133.758</td>\n",
       "      <td>Okay, so just under five minutes to go.</td>\n",
       "      <td>[0.021284627, -0.017589511, -0.037471864, -0.0...</td>\n",
       "    </tr>\n",
       "    <tr>\n",
       "      <th>4</th>\n",
       "      <td>134.978</td>\n",
       "      <td>144.926</td>\n",
       "      <td>Peaceful sound from me. Remind us. Pit to be l...</td>\n",
       "      <td>[0.0003933713, -0.021510402, -0.035683434, -0....</td>\n",
       "    </tr>\n",
       "  </tbody>\n",
       "</table>\n",
       "</div>"
      ],
      "text/plain": [
       "     start      end                                               text  \\\n",
       "0   40.578   43.198          Three a tick. Yep, that's that one clear.   \n",
       "1   50.018   52.350  What the other car did on the front wing, do w...   \n",
       "2   73.250   80.574  Okay, so they all said a little bit understeer...   \n",
       "3  130.690  133.758            Okay, so just under five minutes to go.   \n",
       "4  134.978  144.926  Peaceful sound from me. Remind us. Pit to be l...   \n",
       "\n",
       "                                           embedding  \n",
       "0  [0.014806596, -0.013747013, -0.056391202, -0.0...  \n",
       "1  [0.011937778, -0.017356517, -0.039998524, -0.0...  \n",
       "2  [0.002522055, -0.047273237, -0.033486698, 0.00...  \n",
       "3  [0.021284627, -0.017589511, -0.037471864, -0.0...  \n",
       "4  [0.0003933713, -0.021510402, -0.035683434, -0....  "
      ]
     },
     "execution_count": 68,
     "metadata": {},
     "output_type": "execute_result"
    }
   ],
   "source": [
    "df = pd.read_parquet(\"data/embedding/Formula 1 Race - 2021 British Grand Prix-ALO.parquet\")\n",
    "# df = pd.read_parquet(\"temp.parquet\")\n",
    "print(len(df))\n",
    "\n",
    "df.embedding = df.embedding.map(np.array)\n",
    "\n",
    "df.head()"
   ]
  },
  {
   "cell_type": "code",
   "execution_count": 69,
   "id": "0b1c973b-2b2a-442b-bce6-91c0353385d2",
   "metadata": {
    "execution": {
     "iopub.execute_input": "2024-09-23T08:37:53.520140Z",
     "iopub.status.busy": "2024-09-23T08:37:53.519354Z",
     "iopub.status.idle": "2024-09-23T08:37:53.528564Z",
     "shell.execute_reply": "2024-09-23T08:37:53.527628Z",
     "shell.execute_reply.started": "2024-09-23T08:37:53.520075Z"
    }
   },
   "outputs": [
    {
     "data": {
      "text/plain": [
       "(5, 768)"
      ]
     },
     "execution_count": 69,
     "metadata": {},
     "output_type": "execute_result"
    }
   ],
   "source": [
    "embeddings = np.array(df.embedding.tolist())\n",
    "embeddings.shape"
   ]
  },
  {
   "cell_type": "code",
   "execution_count": 6,
   "id": "d332699e-b06b-4f35-bbed-0e0cefc3c063",
   "metadata": {
    "execution": {
     "iopub.execute_input": "2024-09-21T19:03:23.627578Z",
     "iopub.status.busy": "2024-09-21T19:03:23.627471Z",
     "iopub.status.idle": "2024-09-21T19:03:23.630034Z",
     "shell.execute_reply": "2024-09-21T19:03:23.629765Z",
     "shell.execute_reply.started": "2024-09-21T19:03:23.627568Z"
    }
   },
   "outputs": [],
   "source": [
    "model = genai.GenerativeModel(\"gemini-1.5-flash\")"
   ]
  },
  {
   "cell_type": "code",
   "execution_count": 6,
   "id": "dc5447e4",
   "metadata": {
    "execution": {
     "iopub.execute_input": "2024-09-21T19:03:23.627578Z",
     "iopub.status.busy": "2024-09-21T19:03:23.627471Z",
     "iopub.status.idle": "2024-09-21T19:03:23.630034Z",
     "shell.execute_reply": "2024-09-21T19:03:23.629765Z",
     "shell.execute_reply.started": "2024-09-21T19:03:23.627568Z"
    }
   },
   "outputs": [],
   "source": [
    "model = genai.GenerativeModel(\"gemini-1.5-flash\")"
   ]
  },
  {
   "cell_type": "code",
   "execution_count": 59,
   "id": "4b48abb0-a210-4f63-a613-8ffb2c86d6f7",
   "metadata": {
    "execution": {
     "iopub.execute_input": "2024-09-21T19:11:11.335056Z",
     "iopub.status.busy": "2024-09-21T19:11:11.334369Z",
     "iopub.status.idle": "2024-09-21T19:11:11.792484Z",
     "shell.execute_reply": "2024-09-21T19:11:11.791425Z",
     "shell.execute_reply.started": "2024-09-21T19:11:11.334998Z"
    }
   },
   "outputs": [
    {
     "data": {
      "text/plain": [
       "(768,)"
      ]
     },
     "execution_count": 59,
     "metadata": {},
     "output_type": "execute_result"
    }
   ],
   "source": [
    "query = \"Were there any undercuts?\"\n",
    "\n",
    "query_embedded = np.array(genai.embed_content(\n",
    "    model=\"models/text-embedding-004\",\n",
    "    content=query,\n",
    "    task_type=\"retrieval_document\",\n",
    ")[\"embedding\"])\n",
    "\n",
    "query_embedded.shape"
   ]
  },
  {
   "cell_type": "code",
   "execution_count": 9,
   "id": "e2733686-fc32-490b-aa35-1fdc1855ccf5",
   "metadata": {
    "execution": {
     "iopub.execute_input": "2024-09-21T19:03:31.791467Z",
     "iopub.status.busy": "2024-09-21T19:03:31.790830Z",
     "iopub.status.idle": "2024-09-21T19:03:31.863874Z",
     "shell.execute_reply": "2024-09-21T19:03:31.857075Z",
     "shell.execute_reply.started": "2024-09-21T19:03:31.791438Z"
    }
   },
   "outputs": [
    {
     "data": {
      "text/plain": [
       "(144,)"
      ]
     },
     "execution_count": 9,
     "metadata": {},
     "output_type": "execute_result"
    }
   ],
   "source": [
    "similarities = embeddings @ query_embedded\n",
    "order = np.argsort(similarities)[::-1]\n",
    "order.shape"
   ]
  },
  {
   "cell_type": "code",
   "execution_count": 64,
   "id": "e98d4310-b2a1-450d-9d19-b3544bccb315",
   "metadata": {
    "execution": {
     "iopub.execute_input": "2024-09-21T19:11:28.287384Z",
     "iopub.status.busy": "2024-09-21T19:11:28.286548Z",
     "iopub.status.idle": "2024-09-21T19:11:28.294892Z",
     "shell.execute_reply": "2024-09-21T19:11:28.293751Z",
     "shell.execute_reply.started": "2024-09-21T19:11:28.287349Z"
    }
   },
   "outputs": [
    {
     "data": {
      "text/plain": [
       "50"
      ]
     },
     "execution_count": 64,
     "metadata": {},
     "output_type": "execute_result"
    }
   ],
   "source": [
    "df_relevant = df.iloc[order[:50]]\n",
    "len(df_relevant)"
   ]
  },
  {
   "cell_type": "code",
   "execution_count": 65,
   "id": "51ec5c74-9e72-4b46-b360-48c6b4d1566b",
   "metadata": {
    "execution": {
     "iopub.execute_input": "2024-09-21T19:11:28.565876Z",
     "iopub.status.busy": "2024-09-21T19:11:28.565153Z",
     "iopub.status.idle": "2024-09-21T19:11:28.584064Z",
     "shell.execute_reply": "2024-09-21T19:11:28.583400Z",
     "shell.execute_reply.started": "2024-09-21T19:11:28.565815Z"
    },
    "scrolled": true
   },
   "outputs": [
    {
     "name": "stdout",
     "output_type": "stream",
     "text": [
      "\n",
      "    <transcript>\n",
      "        <start_time>1:11</start_time>\n",
      "        <end_time>1:11</end_time>\n",
      "        <text> Be safe to Magnussen by 8 seconds.</text>\n",
      "    </transcript>\n",
      "    \n",
      "    <transcript>\n",
      "        <start_time>0:33</start_time>\n",
      "        <end_time>0:33</end_time>\n",
      "        <text> Hit that tag too.</text>\n",
      "    </transcript>\n",
      "    \n",
      "    <transcript>\n",
      "        <start_time>0:12</start_time>\n",
      "        <end_time>0:12</end_time>\n",
      "        <text> Sainz 0.8 ahead, Magnussen 0.7 behind.</text>\n",
      "    </transcript>\n",
      "    \n",
      "    <transcript>\n",
      "        <start_time>0:55</start_time>\n",
      "        <end_time>0:55</end_time>\n",
      "        <text> Gasly ahead after 5.5 seconds, he's doing 39.9 on the medium tyre, that's 14 laps left.</text>\n",
      "    </transcript>\n",
      "    \n",
      "    <transcript>\n",
      "        <start_time>0:13</start_time>\n",
      "        <end_time>0:13</end_time>\n",
      "        <text> Pérez now car behind at 1.8 seconds.</text>\n",
      "    </transcript>\n",
      "    \n",
      "    <transcript>\n",
      "        <start_time>0:2</start_time>\n",
      "        <end_time>0:2</end_time>\n",
      "        <text> The other car quite a bit further forwards on the long run.</text>\n",
      "    </transcript>\n",
      "    \n",
      "    <transcript>\n",
      "        <start_time>1:15</start_time>\n",
      "        <end_time>1:15</end_time>\n",
      "        <text> Yeah, we...</text>\n",
      "    </transcript>\n",
      "    \n",
      "    <transcript>\n",
      "        <start_time>0:8</start_time>\n",
      "        <end_time>0:8</end_time>\n",
      "        <text> Last car approaching the grid.</text>\n",
      "    </transcript>\n",
      "    \n",
      "    <transcript>\n",
      "        <start_time>0:10</start_time>\n",
      "        <end_time>0:10</end_time>\n",
      "        <text> Sainz 0.6 ahead, Maxon 0.7 behind.</text>\n",
      "    </transcript>\n",
      "    \n",
      "    <transcript>\n",
      "        <start_time>1:5</start_time>\n",
      "        <end_time>1:5</end_time>\n",
      "        <text> Stop for medium tyres, he's 16 seconds behind, he's staying sad too.</text>\n",
      "    </transcript>\n",
      "    \n",
      "    <transcript>\n",
      "        <start_time>0:38</start_time>\n",
      "        <end_time>0:38</end_time>\n",
      "        <text> George on the hard tyre, four laps newer for George.</text>\n",
      "    </transcript>\n",
      "    \n",
      "    <transcript>\n",
      "        <start_time>0:46</start_time>\n",
      "        <end_time>0:46</end_time>\n",
      "        <text> Lewis. Last lap for George, 38.6.</text>\n",
      "    </transcript>\n",
      "    \n",
      "    <transcript>\n",
      "        <start_time>1:47</start_time>\n",
      "        <end_time>1:47</end_time>\n",
      "        <text> We think Verstappen issue with the system. Perez, not sure what happened to him.</text>\n",
      "    </transcript>\n",
      "    \n",
      "    <transcript>\n",
      "        <start_time>1:33</start_time>\n",
      "        <end_time>1:33</end_time>\n",
      "        <text> Take the car, it's going to begin this lap.</text>\n",
      "    </transcript>\n",
      "    \n",
      "    <transcript>\n",
      "        <start_time>0:55</start_time>\n",
      "        <end_time>0:55</end_time>\n",
      "        <text> Think about bringing back braking for turn 14, maximising mid-exit.</text>\n",
      "    </transcript>\n",
      "    \n",
      "    <transcript>\n",
      "        <start_time>1:46</start_time>\n",
      "        <end_time>1:46</end_time>\n",
      "        <text> Guys, mega, mega job.</text>\n",
      "    </transcript>\n",
      "    \n",
      "    <transcript>\n",
      "        <start_time>1:27</start_time>\n",
      "        <end_time>1:27</end_time>\n",
      "        <text> It'll probably take a while to sort all this out once I go on the safety call.</text>\n",
      "    </transcript>\n",
      "    \n",
      "    <transcript>\n",
      "        <start_time>1:32</start_time>\n",
      "        <end_time>1:32</end_time>\n",
      "        <text> Varese then decides to head. Verstappen P2 has been moaning about its power steering.</text>\n",
      "    </transcript>\n",
      "    \n",
      "    <transcript>\n",
      "        <start_time>1:27</start_time>\n",
      "        <end_time>1:27</end_time>\n",
      "        <text> stuff's ahead</text>\n",
      "    </transcript>\n",
      "    \n",
      "    <transcript>\n",
      "        <start_time>1:24</start_time>\n",
      "        <end_time>1:24</end_time>\n",
      "        <text> Okay, thank you.</text>\n",
      "    </transcript>\n",
      "    \n",
      "    <transcript>\n",
      "        <start_time>1:11</start_time>\n",
      "        <end_time>1:11</end_time>\n",
      "        <text> And copy.</text>\n",
      "    </transcript>\n",
      "    \n",
      "    <transcript>\n",
      "        <start_time>1:44</start_time>\n",
      "        <end_time>1:44</end_time>\n",
      "        <text> Just one more lap when you cross the line.</text>\n",
      "    </transcript>\n",
      "    \n",
      "    <transcript>\n",
      "        <start_time>1:48</start_time>\n",
      "        <end_time>1:48</end_time>\n",
      "        <text> So you'll be coming into the pit lane.</text>\n",
      "    </transcript>\n",
      "    \n",
      "    <transcript>\n",
      "        <start_time>0:33</start_time>\n",
      "        <end_time>0:33</end_time>\n",
      "        <text> It's a bit late now.</text>\n",
      "    </transcript>\n",
      "    \n",
      "    <transcript>\n",
      "        <start_time>1:29</start_time>\n",
      "        <end_time>1:29</end_time>\n",
      "        <text> Everyone is on similar age tyres, you're all on 3-4 lap hold and soft tyres.</text>\n",
      "    </transcript>\n",
      "    \n",
      "    <transcript>\n",
      "        <start_time>1:44</start_time>\n",
      "        <end_time>1:44</end_time>\n",
      "        <text> The race looks to recover.</text>\n",
      "    </transcript>\n",
      "    \n",
      "    <transcript>\n",
      "        <start_time>1:32</start_time>\n",
      "        <end_time>1:32</end_time>\n",
      "        <text> Be good.</text>\n",
      "    </transcript>\n",
      "    \n",
      "    <transcript>\n",
      "        <start_time>0:15</start_time>\n",
      "        <end_time>0:15</end_time>\n",
      "        <text> Still at one point and behind.</text>\n",
      "    </transcript>\n",
      "    \n",
      "    <transcript>\n",
      "        <start_time>1:28</start_time>\n",
      "        <end_time>1:28</end_time>\n",
      "        <text> The car should pick up the pace once he's crossed the safety line again.</text>\n",
      "    </transcript>\n",
      "    \n",
      "    <transcript>\n",
      "        <start_time>0:25</start_time>\n",
      "        <end_time>0:25</end_time>\n",
      "        <text> So next car behind is George at 3.1 and yeah, copy that last one.</text>\n",
      "    </transcript>\n",
      "    \n",
      "    <transcript>\n",
      "        <start_time>1:13</start_time>\n",
      "        <end_time>1:13</end_time>\n",
      "        <text> 37.70, still up to 15 seconds behind.</text>\n",
      "    </transcript>\n",
      "    \n",
      "    <transcript>\n",
      "        <start_time>0:50</start_time>\n",
      "        <end_time>0:50</end_time>\n",
      "        <text> George, same lap time.</text>\n",
      "    </transcript>\n",
      "    \n",
      "    <transcript>\n",
      "        <start_time>1:32</start_time>\n",
      "        <end_time>1:32</end_time>\n",
      "        <text> Now in order.</text>\n",
      "    </transcript>\n",
      "    \n",
      "    <transcript>\n",
      "        <start_time>1:10</start_time>\n",
      "        <end_time>1:11</end_time>\n",
      "        <text> George doing 37.7 at the moment. He's on six-lap Fresher medium tyres, just bringing those in. We've got Hypnai Magnussen, he's at 37.2.</text>\n",
      "    </transcript>\n",
      "    \n",
      "    <transcript>\n",
      "        <start_time>1:24</start_time>\n",
      "        <end_time>1:24</end_time>\n",
      "        <text> Keep on that delta.</text>\n",
      "    </transcript>\n",
      "    \n",
      "    <transcript>\n",
      "        <start_time>0:45</start_time>\n",
      "        <end_time>0:45</end_time>\n",
      "        <text> Bounce check, bounce check.</text>\n",
      "    </transcript>\n",
      "    \n",
      "    <transcript>\n",
      "        <start_time>0:53</start_time>\n",
      "        <end_time>0:53</end_time>\n",
      "        <text> Box, box, box, box.</text>\n",
      "    </transcript>\n",
      "    \n",
      "    <transcript>\n",
      "        <start_time>1:28</start_time>\n",
      "        <end_time>1:28</end_time>\n",
      "        <text> A safety car currently between turns 3 and 4.</text>\n",
      "    </transcript>\n",
      "    \n",
      "    <transcript>\n",
      "        <start_time>1:30</start_time>\n",
      "        <end_time>1:30</end_time>\n",
      "        <text> He's yet to fall. Nine laps can be crossed the line.</text>\n",
      "    </transcript>\n",
      "    \n",
      "    <transcript>\n",
      "        <start_time>1:29</start_time>\n",
      "        <end_time>1:29</end_time>\n",
      "        <text> We're safe to go now.</text>\n",
      "    </transcript>\n",
      "    \n",
      "    <transcript>\n",
      "        <start_time>1:33</start_time>\n",
      "        <end_time>1:33</end_time>\n",
      "        <text> Yeah, that's not massive. Yeah, not worried about that.</text>\n",
      "    </transcript>\n",
      "    \n",
      "    <transcript>\n",
      "        <start_time>1:43</start_time>\n",
      "        <end_time>1:43</end_time>\n",
      "        <text> The race may be losing power too.</text>\n",
      "    </transcript>\n",
      "    \n",
      "    <transcript>\n",
      "        <start_time>1:26</start_time>\n",
      "        <end_time>1:26</end_time>\n",
      "        <text> No overtaking, obviously.</text>\n",
      "    </transcript>\n",
      "    \n",
      "    <transcript>\n",
      "        <start_time>0:27</start_time>\n",
      "        <end_time>0:27</end_time>\n",
      "        <text> That's it.</text>\n",
      "    </transcript>\n",
      "    \n",
      "    <transcript>\n",
      "        <start_time>1:38</start_time>\n",
      "        <end_time>1:38</end_time>\n",
      "        <text> It has been enabled. Perez 0.9 ahead.</text>\n",
      "    </transcript>\n",
      "    \n",
      "    <transcript>\n",
      "        <start_time>1:28</start_time>\n",
      "        <end_time>1:28</end_time>\n",
      "        <text> To get a bit of brake temp in it, just for now.</text>\n",
      "    </transcript>\n",
      "    \n",
      "    <transcript>\n",
      "        <start_time>1:32</start_time>\n",
      "        <end_time>1:32</end_time>\n",
      "        <text> Still got a bit of margin on brakes.</text>\n",
      "    </transcript>\n",
      "    \n",
      "    <transcript>\n",
      "        <start_time>1:0</start_time>\n",
      "        <end_time>1:0</end_time>\n",
      "        <text> 17-lap hold, soft tire.</text>\n",
      "    </transcript>\n",
      "    \n",
      "    <transcript>\n",
      "        <start_time>1:24</start_time>\n",
      "        <end_time>1:25</end_time>\n",
      "        <text> You should let me pass for the signal.</text>\n",
      "    </transcript>\n",
      "    \n",
      "    <transcript>\n",
      "        <start_time>0:54</start_time>\n",
      "        <end_time>0:54</end_time>\n",
      "        <text> It's important that we don't push this tyre too hard on the outlap.</text>\n",
      "    </transcript>\n",
      "    \n"
     ]
    }
   ],
   "source": [
    "def seconds_to_hours_minutes(seconds):\n",
    "    hours, remainder = divmod(seconds, 3600)\n",
    "    minutes, _ = divmod(remainder, 60)\n",
    "    return f\"{int(hours)}:{int(minutes)}\"\n",
    "\n",
    "transcripts = \"\"\n",
    "for i in range(len(df_relevant)):\n",
    "    transcripts += f\"\"\"\n",
    "    <transcript>\n",
    "        <start_time>{seconds_to_hours_minutes(df_relevant.iloc[i].start)}</start_time>\n",
    "        <end_time>{seconds_to_hours_minutes(df_relevant.iloc[i].end)}</end_time>\n",
    "        <text>{df_relevant.iloc[i].text}</text>\n",
    "    </transcript>\n",
    "    \"\"\"\n",
    "\n",
    "print(transcripts)"
   ]
  },
  {
   "cell_type": "code",
   "execution_count": 66,
   "id": "a1a35637-3739-4be8-ab48-d5ece6331e75",
   "metadata": {
    "execution": {
     "iopub.execute_input": "2024-09-21T19:11:29.876773Z",
     "iopub.status.busy": "2024-09-21T19:11:29.876059Z",
     "iopub.status.idle": "2024-09-21T19:11:29.882805Z",
     "shell.execute_reply": "2024-09-21T19:11:29.881861Z",
     "shell.execute_reply.started": "2024-09-21T19:11:29.876707Z"
    }
   },
   "outputs": [],
   "source": [
    "\n",
    "prompt = f\"\"\"Please provide a concise yet informative response to the following question:\n",
    "{query}\n",
    "Guidelines:\n",
    "\n",
    "* Aim for a balanced answer - neither overly lengthy nor excessively brief\n",
    "* Focus on directly addressing the question without extensive justification\n",
    "* Consider the context provided by the relevant radio transcript excerpts below\n",
    "* Be aware that the transcripts may contain typos or errors - use your judgment to interpret similar words or phrases\n",
    "* Mention the time for the transcript if needed for the query. Convert the seconds to a human readable format\n",
    "\n",
    "Relevant transcript excerpts:\n",
    "{transcripts}\n",
    "\"\"\""
   ]
  },
  {
   "cell_type": "code",
   "execution_count": 67,
   "id": "7203003b-62b2-4509-9f07-c154d2c000a3",
   "metadata": {
    "execution": {
     "iopub.execute_input": "2024-09-21T19:11:30.620535Z",
     "iopub.status.busy": "2024-09-21T19:11:30.619790Z",
     "iopub.status.idle": "2024-09-21T19:11:31.358861Z",
     "shell.execute_reply": "2024-09-21T19:11:31.357778Z",
     "shell.execute_reply.started": "2024-09-21T19:11:30.620473Z"
    }
   },
   "outputs": [
    {
     "name": "stdout",
     "output_type": "stream",
     "text": [
      "The transcripts don't explicitly mention undercuts. \n"
     ]
    }
   ],
   "source": [
    "response = model.generate_content(contents=[prompt], stream=True)\n",
    "for x in response:\n",
    "    print(x.text, end=\"\")"
   ]
  },
  {
   "cell_type": "markdown",
   "id": "daea2dd2-0016-42a6-848a-b5d195e6d397",
   "metadata": {
    "execution": {
     "iopub.execute_input": "2024-09-21T01:51:21.556761Z",
     "iopub.status.busy": "2024-09-21T01:51:21.553373Z",
     "iopub.status.idle": "2024-09-21T01:51:21.576314Z",
     "shell.execute_reply": "2024-09-21T01:51:21.575568Z",
     "shell.execute_reply.started": "2024-09-21T01:51:21.556713Z"
    }
   },
   "source": [
    "# Testing smart query query generation"
   ]
  },
  {
   "cell_type": "code",
   "execution_count": 60,
   "id": "d1d45368-2af8-4a84-80d0-1712b3e1d6fa",
   "metadata": {
    "execution": {
     "iopub.execute_input": "2024-09-21T19:11:17.953078Z",
     "iopub.status.busy": "2024-09-21T19:11:17.952301Z",
     "iopub.status.idle": "2024-09-21T19:11:17.959597Z",
     "shell.execute_reply": "2024-09-21T19:11:17.958285Z",
     "shell.execute_reply.started": "2024-09-21T19:11:17.953014Z"
    }
   },
   "outputs": [],
   "source": [
    "prompt = f\"\"\"\n",
    "Act as if you are a Formula 1 Driver and is in constant communication with the team regarding the state of the race and your car. \n",
    "Create some sentences that you might say that are relevant to the following query: {query}.\n",
    "\n",
    "Guidelines:\n",
    "* Keep the messages short brief and to the point.\n",
    "* Respond in the form for a python list of strings\n",
    "\n",
    "\"\"\""
   ]
  },
  {
   "cell_type": "code",
   "execution_count": 61,
   "id": "0cd450fa-1fc8-4add-865b-96991ef980c2",
   "metadata": {
    "execution": {
     "iopub.execute_input": "2024-09-21T19:11:18.330570Z",
     "iopub.status.busy": "2024-09-21T19:11:18.330118Z",
     "iopub.status.idle": "2024-09-21T19:11:19.478549Z",
     "shell.execute_reply": "2024-09-21T19:11:19.477136Z",
     "shell.execute_reply.started": "2024-09-21T19:11:18.330537Z"
    }
   },
   "outputs": [
    {
     "data": {
      "text/plain": [
       "['Box this lap, need to cover that undercut.',\n",
       " 'Just got undercut by Bottas, need to push hard on this out lap.',\n",
       " \"Hamilton pitted, I'm holding the lead for now,  but I think there's an undercut coming.\",\n",
       " \"They're trying to undercut me again, let's see if they can pull it off.\",\n",
       " \"We need to anticipate the next undercut, they're playing a dangerous game.\"]"
      ]
     },
     "execution_count": 61,
     "metadata": {},
     "output_type": "execute_result"
    }
   ],
   "source": [
    "response = model.generate_content(contents=[prompt])\n",
    "sentences = eval(response.text[response.text.index('['):response.text.rfind(']')+1])\n",
    "sentences"
   ]
  },
  {
   "cell_type": "code",
   "execution_count": 62,
   "id": "d8d82c13-f52c-4bec-a0be-2f5c52181880",
   "metadata": {
    "execution": {
     "iopub.execute_input": "2024-09-21T19:11:19.482164Z",
     "iopub.status.busy": "2024-09-21T19:11:19.481662Z",
     "iopub.status.idle": "2024-09-21T19:11:20.971607Z",
     "shell.execute_reply": "2024-09-21T19:11:20.970915Z",
     "shell.execute_reply.started": "2024-09-21T19:11:19.482121Z"
    }
   },
   "outputs": [
    {
     "data": {
      "text/plain": [
       "(5, 768)"
      ]
     },
     "execution_count": 62,
     "metadata": {},
     "output_type": "execute_result"
    }
   ],
   "source": [
    "sentences_embedded = np.array(genai.embed_content(\n",
    "    model=\"models/text-embedding-004\",\n",
    "    content=sentences,\n",
    "    task_type=\"retrieval_document\",\n",
    ")[\"embedding\"])\n",
    "sentences_embedded.shape"
   ]
  },
  {
   "cell_type": "code",
   "execution_count": 63,
   "id": "f4b93da4-4709-4529-8302-a48844affde5",
   "metadata": {
    "execution": {
     "iopub.execute_input": "2024-09-21T19:11:20.973333Z",
     "iopub.status.busy": "2024-09-21T19:11:20.973100Z",
     "iopub.status.idle": "2024-09-21T19:11:21.000328Z",
     "shell.execute_reply": "2024-09-21T19:11:20.999742Z",
     "shell.execute_reply.started": "2024-09-21T19:11:20.973307Z"
    }
   },
   "outputs": [
    {
     "data": {
      "text/plain": [
       "(144,)"
      ]
     },
     "execution_count": 63,
     "metadata": {},
     "output_type": "execute_result"
    }
   ],
   "source": [
    "similarities = (embeddings @ sentences_embedded.T).max(-1)\n",
    "order = np.argsort(similarities)[::-1]\n",
    "order.shape"
   ]
  },
  {
   "cell_type": "code",
   "execution_count": null,
   "id": "93da2fc6-ab13-42d8-b1c7-67321ac3a4a0",
   "metadata": {},
   "outputs": [],
   "source": []
  }
 ],
 "metadata": {
  "kernelspec": {
   "display_name": "Python 3 (ipykernel)",
   "language": "python",
   "name": "python3"
  },
  "language_info": {
   "codemirror_mode": {
    "name": "ipython",
    "version": 3
   },
   "file_extension": ".py",
   "mimetype": "text/x-python",
   "name": "python",
   "nbconvert_exporter": "python",
   "pygments_lexer": "ipython3",
   "version": "3.9.12"
  }
 },
 "nbformat": 4,
 "nbformat_minor": 5
}
